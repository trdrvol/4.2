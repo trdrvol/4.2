{
 "cells": [
  {
   "cell_type": "code",
   "execution_count": null,
   "metadata": {},
   "outputs": [],
   "source": [
    "\"\"\"\n",
    "4.2.1 \n",
    "Function > list of words > list of integers representing lenght of intgers\n",
    "\n",
    "\"\"\""
   ]
  },
  {
   "cell_type": "code",
   "execution_count": 8,
   "metadata": {},
   "outputs": [
    {
     "name": "stdout",
     "output_type": "stream",
     "text": [
      "[1, 2, 6, 8, 17]\n"
     ]
    }
   ],
   "source": [
    "def length_of_integers(list):\n",
    "    L=[]\n",
    "    for word in list:\n",
    "        L.append(len(word))\n",
    "    return L\n",
    "Z=[\"a\",\"ab\",\"Gaurav\",\"Alphabet\",\"Dogmatic_doldrums\"]\n",
    "print(length_of_integers(Z))\n",
    "\n",
    "        "
   ]
  },
  {
   "cell_type": "code",
   "execution_count": null,
   "metadata": {},
   "outputs": [],
   "source": [
    "\"\"\"\n",
    "4.2.2\n",
    "Write python function which takes character( i.e string of length 1)\n",
    "and returns True if it is a vowel, False otherwise.\n",
    "\"\"\""
   ]
  },
  {
   "cell_type": "code",
   "execution_count": 3,
   "metadata": {},
   "outputs": [
    {
     "name": "stdout",
     "output_type": "stream",
     "text": [
      "What is my alphabet? : D\n",
      "False\n"
     ]
    }
   ],
   "source": [
    "def if_vowel(x):\n",
    "    L=[\"a\",\"e\",\"i\",\"o\",\"u\"]\n",
    "    if len(x) == 1:\n",
    "        if x.lower() in L:\n",
    "            return \"True\"\n",
    "        elif x.lower() == \"y\":\n",
    "            return x + \" can sometimes be used as vowel or consonant\"\n",
    "        else:\n",
    "            return  \"False\"\n",
    "    else:\n",
    "        return \"Just gimme 1 letter alphabet and not word\"\n",
    "n=input(\"What is my alphabet? : \")\n",
    "print(if_vowel(n))"
   ]
  },
  {
   "cell_type": "code",
   "execution_count": null,
   "metadata": {},
   "outputs": [],
   "source": []
  }
 ],
 "metadata": {
  "kernelspec": {
   "display_name": "Python 3",
   "language": "python",
   "name": "python3"
  },
  "language_info": {
   "codemirror_mode": {
    "name": "ipython",
    "version": 3
   },
   "file_extension": ".py",
   "mimetype": "text/x-python",
   "name": "python",
   "nbconvert_exporter": "python",
   "pygments_lexer": "ipython3",
   "version": "3.6.4"
  }
 },
 "nbformat": 4,
 "nbformat_minor": 2
}
